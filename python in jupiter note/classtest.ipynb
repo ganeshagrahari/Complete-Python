{
 "cells": [
  {
   "cell_type": "code",
   "execution_count": 4,
   "metadata": {},
   "outputs": [
    {
     "ename": "TypeError",
     "evalue": "'>' not supported between instances of 'str' and 'int'",
     "output_type": "error",
     "traceback": [
      "\u001b[1;31m---------------------------------------------------------------------------\u001b[0m",
      "\u001b[1;31mTypeError\u001b[0m                                 Traceback (most recent call last)",
      "\u001b[1;32mc:\\Users\\Ganesh Agrahari\\OneDrive\\Desktop\\python in jupiter note\\classtest.ipynb Cell 1\u001b[0m line \u001b[0;36m3\n\u001b[0;32m      <a href='vscode-notebook-cell:/c%3A/Users/Ganesh%20Agrahari/OneDrive/Desktop/python%20in%20jupiter%20note/classtest.ipynb#W0sZmlsZQ%3D%3D?line=0'>1</a>\u001b[0m salary \u001b[39m=\u001b[39m \u001b[39mint\u001b[39m(\u001b[39minput\u001b[39m(\u001b[39m\"\u001b[39m\u001b[39mEnter your salary: \u001b[39m\u001b[39m\"\u001b[39m))\n\u001b[0;32m      <a href='vscode-notebook-cell:/c%3A/Users/Ganesh%20Agrahari/OneDrive/Desktop/python%20in%20jupiter%20note/classtest.ipynb#W0sZmlsZQ%3D%3D?line=1'>2</a>\u001b[0m year\u001b[39m=\u001b[39m \u001b[39minput\u001b[39m(\u001b[39minput\u001b[39m(\u001b[39m\"\u001b[39m\u001b[39mEnter yor working years: \u001b[39m\u001b[39m\"\u001b[39m))\n\u001b[1;32m----> <a href='vscode-notebook-cell:/c%3A/Users/Ganesh%20Agrahari/OneDrive/Desktop/python%20in%20jupiter%20note/classtest.ipynb#W0sZmlsZQ%3D%3D?line=2'>3</a>\u001b[0m \u001b[39mif\u001b[39;00m year \u001b[39m>\u001b[39;49m \u001b[39m5\u001b[39;49m:\n\u001b[0;32m      <a href='vscode-notebook-cell:/c%3A/Users/Ganesh%20Agrahari/OneDrive/Desktop/python%20in%20jupiter%20note/classtest.ipynb#W0sZmlsZQ%3D%3D?line=3'>4</a>\u001b[0m     a \u001b[39m=\u001b[39m salary\u001b[39m*\u001b[39m(\u001b[39m5\u001b[39m\u001b[39m/\u001b[39m\u001b[39m100\u001b[39m)\u001b[39m+\u001b[39msalary\n\u001b[0;32m      <a href='vscode-notebook-cell:/c%3A/Users/Ganesh%20Agrahari/OneDrive/Desktop/python%20in%20jupiter%20note/classtest.ipynb#W0sZmlsZQ%3D%3D?line=4'>5</a>\u001b[0m     \u001b[39mprint\u001b[39m(\u001b[39mf\u001b[39m\u001b[39m\"\u001b[39m\u001b[39mYour bounus is \u001b[39m\u001b[39m{\u001b[39;00msalary\u001b[39m*\u001b[39m(\u001b[39m5\u001b[39m\u001b[39m/\u001b[39m\u001b[39m100\u001b[39m)\u001b[39m}\u001b[39;00m\u001b[39m and your total amount is \u001b[39m\u001b[39m{\u001b[39;00ma\u001b[39m}\u001b[39;00m\u001b[39m\"\u001b[39m)\n",
      "\u001b[1;31mTypeError\u001b[0m: '>' not supported between instances of 'str' and 'int'"
     ]
    }
   ],
   "source": [
    "salary = int(input(\"Enter your salary: \"))\n",
    "year= input(input(\"Enter yor working years: \"))\n",
    "if year > 5:\n",
    "    a = salary*(5/100)+salary\n",
    "    print(f\"Your bounus is {salary*(5/100)} and your total amount is {a}\")\n",
    "else:\n",
    "    print(f\"Your total amount is {salary}\")    "
   ]
  }
 ],
 "metadata": {
  "kernelspec": {
   "display_name": "Python 3",
   "language": "python",
   "name": "python3"
  },
  "language_info": {
   "codemirror_mode": {
    "name": "ipython",
    "version": 3
   },
   "file_extension": ".py",
   "mimetype": "text/x-python",
   "name": "python",
   "nbconvert_exporter": "python",
   "pygments_lexer": "ipython3",
   "version": "3.11.5"
  },
  "orig_nbformat": 4
 },
 "nbformat": 4,
 "nbformat_minor": 2
}
