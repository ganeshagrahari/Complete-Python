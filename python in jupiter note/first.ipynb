{
 "cells": [
  {
   "cell_type": "code",
   "execution_count": null,
   "metadata": {},
   "outputs": [
    {
     "ename": "",
     "evalue": "",
     "output_type": "error",
     "traceback": [
      "\u001b[1;31mThe Kernel crashed while executing code in the the current cell or a previous cell. Please review the code in the cell(s) to identify a possible cause of the failure. Click <a href='https://aka.ms/vscodeJupyterKernelCrash'>here</a> for more info. View Jupyter <a href='command:jupyter.viewOutput'>log</a> for further details."
     ]
    }
   ],
   "source": [
    "\n",
    "print(\"Ticket price is 1000Rs \")\n",
    "age= int(input(\"Enter your age for dicount: \"))\n",
    "if age>=6 and age<=14:\n",
    "    print(\"Ticket is free for you!\")\n",
    "elif age>=15 and age<=25:\n",
    "    a= 1000*(50/100)\n",
    "    print(f\"the discount for you is {a} and the net price of your ticket is {1000-a}Rs\")\n",
    "elif age>=26 and age<=36:\n",
    "    b= 1000*(20/100)\n",
    "    print(f\"the discount for you is {b} and the net price of your ticket is {1000-b}Rs\")\n",
    "else:\n",
    "    c=1000*(10/100)    \n",
    "    print(f\"the discount  you is {c} and the net price of your ticket is {1000-c}Rs\")    "
   ]
  },
  {
   "cell_type": "code",
   "execution_count": 1,
   "metadata": {},
   "outputs": [
    {
     "ename": "ValueError",
     "evalue": "invalid literal for int() with base 10: ''",
     "output_type": "error",
     "traceback": [
      "\u001b[1;31m---------------------------------------------------------------------------\u001b[0m",
      "\u001b[1;31mValueError\u001b[0m                                Traceback (most recent call last)",
      "\u001b[1;32mc:\\Users\\Ganesh Agrahari\\OneDrive\\Desktop\\python in jupiter note\\first.ipynb Cell 2\u001b[0m line \u001b[0;36m1\n\u001b[1;32m----> <a href='vscode-notebook-cell:/c%3A/Users/Ganesh%20Agrahari/OneDrive/Desktop/python%20in%20jupiter%20note/first.ipynb#W1sZmlsZQ%3D%3D?line=0'>1</a>\u001b[0m marks\u001b[39m=\u001b[39m\u001b[39mint\u001b[39;49m(\u001b[39minput\u001b[39;49m(\u001b[39m\"\u001b[39;49m\u001b[39mEnter you marks: \u001b[39;49m\u001b[39m\"\u001b[39;49m))\n\u001b[0;32m      <a href='vscode-notebook-cell:/c%3A/Users/Ganesh%20Agrahari/OneDrive/Desktop/python%20in%20jupiter%20note/first.ipynb#W1sZmlsZQ%3D%3D?line=1'>2</a>\u001b[0m \u001b[39mif\u001b[39;00m marks\u001b[39m<\u001b[39m\u001b[39m25\u001b[39m:\n\u001b[0;32m      <a href='vscode-notebook-cell:/c%3A/Users/Ganesh%20Agrahari/OneDrive/Desktop/python%20in%20jupiter%20note/first.ipynb#W1sZmlsZQ%3D%3D?line=2'>3</a>\u001b[0m     \u001b[39mprint\u001b[39m(\u001b[39m\"\u001b[39m\u001b[39mF\u001b[39m\u001b[39m\"\u001b[39m)\n",
      "\u001b[1;31mValueError\u001b[0m: invalid literal for int() with base 10: ''"
     ]
    }
   ],
   "source": [
    "marks=int(input(\"Enter you marks: \"))\n",
    "if marks<25:\n",
    "    print(\"F\")\n",
    "elif marks>=25 and marks<45:\n",
    "    print(\"E\")\n",
    "elif marks>=45 and marks<50:\n",
    "    print(\"D\")\n",
    "elif marks>=50 and marks<60:\n",
    "    print(\"C\")\n",
    "elif marks>=60 and marks<=80:\n",
    "    print(\"B\")\n",
    "else:\n",
    "    print(\"A\") "
   ]
  },
  {
   "cell_type": "markdown",
   "metadata": {},
   "source": []
  }
 ],
 "metadata": {
  "kernelspec": {
   "display_name": "Python 3",
   "language": "python",
   "name": "python3"
  },
  "language_info": {
   "codemirror_mode": {
    "name": "ipython",
    "version": 3
   },
   "file_extension": ".py",
   "mimetype": "text/x-python",
   "name": "python",
   "nbconvert_exporter": "python",
   "pygments_lexer": "ipython3",
   "version": "3.11.6"
  },
  "orig_nbformat": 4
 },
 "nbformat": 4,
 "nbformat_minor": 2
}
