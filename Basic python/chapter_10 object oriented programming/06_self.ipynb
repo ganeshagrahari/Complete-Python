{
 "cells": [
  {
   "cell_type": "code",
   "execution_count": 15,
   "metadata": {},
   "outputs": [
    {
     "name": "stdout",
     "output_type": "stream",
     "text": [
      "Salary is 100K\n"
     ]
    }
   ],
   "source": [
    "class Employee:\n",
    "    company = \"Google\"\n",
    "    def getSalary(self):\n",
    "        print(\"Salary is 100K\")\n",
    "harry= Employee()     \n",
    "harry.getSalary()#Employee.getSalary(harry)\n",
    "   \n",
    "      "
   ]
  },
  {
   "cell_type": "code",
   "execution_count": 22,
   "metadata": {},
   "outputs": [
    {
     "name": "stdout",
     "output_type": "stream",
     "text": [
      "Salary for this employee working in Google is 100000\n"
     ]
    }
   ],
   "source": [
    "class Employee:\n",
    "    company = \"Google\"\n",
    "    def getSalary(self):\n",
    "        print(f\"Salary for this employee working in {self.company} is {self.salary}\")\n",
    "   \n",
    "   \n",
    "\n",
    "harry= Employee() \n",
    "harry.salary= 100000    \n",
    "harry.getSalary()\n"
   ]
  }
 ],
 "metadata": {
  "kernelspec": {
   "display_name": "Python 3",
   "language": "python",
   "name": "python3"
  },
  "language_info": {
   "codemirror_mode": {
    "name": "ipython",
    "version": 3
   },
   "file_extension": ".py",
   "mimetype": "text/x-python",
   "name": "python",
   "nbconvert_exporter": "python",
   "pygments_lexer": "ipython3",
   "version": "3.11.5"
  },
  "orig_nbformat": 4
 },
 "nbformat": 4,
 "nbformat_minor": 2
}
