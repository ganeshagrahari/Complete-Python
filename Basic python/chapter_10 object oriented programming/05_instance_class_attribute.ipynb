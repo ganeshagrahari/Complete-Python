{
 "cells": [
  {
   "cell_type": "code",
   "execution_count": 12,
   "metadata": {},
   "outputs": [
    {
     "name": "stdout",
     "output_type": "stream",
     "text": [
      "45\n",
      "100\n"
     ]
    },
    {
     "ename": "AttributeError",
     "evalue": "'Employee' object has no attribute 'address'",
     "output_type": "error",
     "traceback": [
      "\u001b[1;31m---------------------------------------------------------------------------\u001b[0m",
      "\u001b[1;31mAttributeError\u001b[0m                            Traceback (most recent call last)",
      "\u001b[1;32mc:\\Users\\Ganesh Agrahari\\OneDrive\\Desktop\\python course by  Ganesh\\chapter_10 object oriented programming\\05_instance_class_attribute.ipynb Cell 1\u001b[0m line \u001b[0;36m1\n\u001b[0;32m     <a href='vscode-notebook-cell:/c%3A/Users/Ganesh%20Agrahari/OneDrive/Desktop/python%20course%20by%20%20Ganesh/chapter_10%20object%20oriented%20programming/05_instance_class_attribute.ipynb#W0sZmlsZQ%3D%3D?line=10'>11</a>\u001b[0m \u001b[39mprint\u001b[39m(harry\u001b[39m.\u001b[39msalary)\n\u001b[0;32m     <a href='vscode-notebook-cell:/c%3A/Users/Ganesh%20Agrahari/OneDrive/Desktop/python%20course%20by%20%20Ganesh/chapter_10%20object%20oriented%20programming/05_instance_class_attribute.ipynb#W0sZmlsZQ%3D%3D?line=11'>12</a>\u001b[0m \u001b[39mprint\u001b[39m(rajni\u001b[39m.\u001b[39msalary)\n\u001b[1;32m---> <a href='vscode-notebook-cell:/c%3A/Users/Ganesh%20Agrahari/OneDrive/Desktop/python%20course%20by%20%20Ganesh/chapter_10%20object%20oriented%20programming/05_instance_class_attribute.ipynb#W0sZmlsZQ%3D%3D?line=12'>13</a>\u001b[0m \u001b[39mprint\u001b[39m(rajni\u001b[39m.\u001b[39;49maddress)\n",
      "\u001b[1;31mAttributeError\u001b[0m: 'Employee' object has no attribute 'address'"
     ]
    }
   ],
   "source": [
    "class Employee:\n",
    "    company =\"Google\"\n",
    "    salary =100\n",
    "\n",
    "\n",
    "harry = Employee()    \n",
    "rajni = Employee()\n",
    "\n",
    "# harry.salary = 300 #if we don't craete instance attribute than it shows class attribute\n",
    "# rajni.salary = 400\n",
    "harry.salary = 45\n",
    "print(harry.salary)\n",
    "print(rajni.salary)\n",
    "#print(rajni.address) #it will throws an error\n"
   ]
  }
 ],
 "metadata": {
  "kernelspec": {
   "display_name": "Python 3",
   "language": "python",
   "name": "python3"
  },
  "language_info": {
   "codemirror_mode": {
    "name": "ipython",
    "version": 3
   },
   "file_extension": ".py",
   "mimetype": "text/x-python",
   "name": "python",
   "nbconvert_exporter": "python",
   "pygments_lexer": "ipython3",
   "version": "3.11.5"
  },
  "orig_nbformat": 4
 },
 "nbformat": 4,
 "nbformat_minor": 2
}
