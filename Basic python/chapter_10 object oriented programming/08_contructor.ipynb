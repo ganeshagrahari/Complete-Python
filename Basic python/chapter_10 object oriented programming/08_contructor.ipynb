{
 "cells": [
  {
   "cell_type": "code",
   "execution_count": 11,
   "metadata": {},
   "outputs": [
    {
     "name": "stdout",
     "output_type": "stream",
     "text": [
      "Employee is created!\n",
      "The name of the Employee is Ganesh\n",
      "The salary of the Employee is 100000\n",
      "The subunit of the Employee is Ai deparment\n"
     ]
    }
   ],
   "source": [
    "# __ init__ () constructor is a spcial method which is first run as soon as the object it is also know as contructor it takes self arugment and also take futher arugments...\n",
    "class Employee:\n",
    "    company = \"Google\"\n",
    "\n",
    "    def __init__(self,name,salary,subunit):\n",
    "        self.name = name\n",
    "        self.salary = 100000\n",
    "        self.subunit = subunit\n",
    "        print(\"Employee is created!\")\n",
    "\n",
    "    def getDetails(self):\n",
    "        print(f\"The name of the Employee is {self.name}\")    \n",
    "        print(f\"The salary of the Employee is {self.salary}\")    \n",
    "        print(f\"The subunit of the Employee is {self.subunit}\")    \n",
    "\n",
    "\n",
    "    def getSalary(self, signature):\n",
    "        print(f\"Salary for this employee working in {self.company} is {self.Salary}\\n {signature}\")\n",
    "    @staticmethod                                                                                                                          #def greet():\n",
    "                                                                                                                          #    print(\"Hello world!\")\n",
    "    def greet():\n",
    "        print(\"Good morning, Sir\")\n",
    "\n",
    "harry= Employee(\"Ganesh\", 100000, \"Ai deparment\")\n",
    "#harry= Employee() # it will throw an error\n",
    "harry.getDetails()       \n",
    "   "
   ]
  }
 ],
 "metadata": {
  "kernelspec": {
   "display_name": "Python 3",
   "language": "python",
   "name": "python3"
  },
  "language_info": {
   "codemirror_mode": {
    "name": "ipython",
    "version": 3
   },
   "file_extension": ".py",
   "mimetype": "text/x-python",
   "name": "python",
   "nbconvert_exporter": "python",
   "pygments_lexer": "ipython3",
   "version": "3.11.5"
  },
  "orig_nbformat": 4
 },
 "nbformat": 4,
 "nbformat_minor": 2
}
