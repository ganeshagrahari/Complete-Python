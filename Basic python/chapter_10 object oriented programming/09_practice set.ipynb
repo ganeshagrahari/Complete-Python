{
 "cells": [
  {
   "cell_type": "code",
   "execution_count": 3,
   "metadata": {},
   "outputs": [
    {
     "name": "stdout",
     "output_type": "stream",
     "text": [
      "The name of the  programmer is Ganesh\n",
      " and the product is Bing\n",
      "The name of the  programmer is Dev\n",
      " and the product is onedrive\n"
     ]
    }
   ],
   "source": [
    "#1---> create a class programmer for storing information of few programmers woring at microsoft\n",
    "class programmer:\n",
    "    company= \"Microsoft\"\n",
    "    def __init__(self, name, product):\n",
    "        self.name= name\n",
    "        self.product = product\n",
    "    def getinfo(self):\n",
    "        print(f\"The name of the  programmer is {self.name}\\n and the product is {self.product}\")    \n",
    "\n",
    "ganesh= programmer(\"Ganesh\", \"Bing\")\n",
    "Dev = programmer(\"Dev\",\"onedrive\") \n",
    "ganesh.getinfo()   \n",
    "Dev.getinfo()    \n",
    "        "
   ]
  },
  {
   "cell_type": "code",
   "execution_count": 7,
   "metadata": {},
   "outputs": [
    {
     "name": "stdout",
     "output_type": "stream",
     "text": [
      "the value of 3 square is 9\n",
      "the value of 3 cube is 27\n",
      "the value of 3 squareroot is 1.7320508075688772\n"
     ]
    }
   ],
   "source": [
    "#2-->write a calculator of finding Square , cube and cube roots of a number....\n",
    "class calculator:\n",
    "    def __init__(self, num):\n",
    "        self.number= num\n",
    "    def square(self):\n",
    "        print(f\"the value of {self.number} square is {self.number**2}\")\n",
    "    def squareroot(self):\n",
    "        print(f\"the value of {self.number} squareroot is {self.number**0.5}\")\n",
    "        \n",
    "    def cube (self):\n",
    "        print(f\"the value of {self.number} cube is {self.number**3}\")\n",
    "        pass   \n",
    "\n",
    "a = calculator(3)\n",
    "a.square()\n",
    "a.cube()\n",
    "a.squareroot()\n",
    "\n",
    "        "
   ]
  },
  {
   "cell_type": "code",
   "execution_count": 5,
   "metadata": {},
   "outputs": [
    {
     "name": "stdout",
     "output_type": "stream",
     "text": [
      "Vishul\n"
     ]
    }
   ],
   "source": [
    "#3---->create class with class attribute a; create an object from it and set a directly using object a = 0. dose this change the class attribute....\n",
    "class sample:\n",
    "    a = \"Ganesh\"\n",
    "\n",
    "obj = sample()\n",
    "obj.a = \"Vishul\" #ye class attribute nhhi change krega ye keval ek instant attribute ko set krega\n",
    "sample.a = \"vishul\" # ye class attribute ko change krega \n",
    "print(obj.a)    "
   ]
  },
  {
   "cell_type": "code",
   "execution_count": 9,
   "metadata": {},
   "outputs": [
    {
     "name": "stdout",
     "output_type": "stream",
     "text": [
      "*****Hello there welcome to the best calculator of the world***\n",
      "the value of 3 square is 9\n"
     ]
    }
   ],
   "source": [
    "#4---->Add a static  method in problem 2 to greet the user with hello\n",
    "class calculator:\n",
    "    def __init__(self, num):\n",
    "        self.number= num\n",
    "    def square(self):\n",
    "        print(f\"the value of {self.number} square is {self.number**2}\")\n",
    "    def squareroot(self):\n",
    "        print(f\"the value of {self.number} squareroot is {self.number**0.5}\")\n",
    "        \n",
    "    def cube (self):\n",
    "        print(f\"the value of {self.number} cube is {self.number**3}\")\n",
    "        pass \n",
    "    @staticmethod \n",
    "    def greet():\n",
    "        print(\"*****Hello there welcome to the best calculator of the world***\") \n",
    "\n",
    "a = calculator(3)\n",
    "a.greet()\n",
    "a.square()"
   ]
  },
  {
   "cell_type": "code",
   "execution_count": 2,
   "metadata": {},
   "outputs": [
    {
     "name": "stdout",
     "output_type": "stream",
     "text": [
      "***************\n",
      "The name of the train is Intercity Express: 140015\n",
      "The seats are  aviable in this train are 2\n",
      "************\n",
      "The price of the ticket is: 90\n",
      "Your ticket has been booked! your seat number is 2\n",
      "***************\n",
      "The name of the train is Intercity Express: 140015\n",
      "The seats are  aviable in this train are 1\n",
      "************\n",
      "Your ticket has been booked! your seat number is 1\n",
      "***************\n",
      "The name of the train is Intercity Express: 140015\n",
      "The seats are  aviable in this train are 0\n",
      "************\n",
      "Sorry this train is full ! kindly try in tatkal.\n"
     ]
    }
   ],
   "source": [
    "#5---> write a class train which has methods to book a ticket, get status (no. of seats) and get fare  information of trains running under Indian Railways\n",
    "class train:\n",
    "    def __init__(self,name,fare,seats):\n",
    "        self.name = name\n",
    "        self.fare = fare\n",
    "        self.seats =seats\n",
    "    def getstatus(self):\n",
    "        print(\"***************\")\n",
    "        print(f\"The name of the train is {self.name}\")\n",
    "        print(f\"The seats are  aviable in this train are {self.seats}\")\n",
    "        print(\"************\")\n",
    "    def fareinfo(self):\n",
    "        print(f\"The price of the ticket is: {self.fare}\")\n",
    "    def bookTicket(self):\n",
    "        if (self.seats >0) :\n",
    "            print(f\"Your ticket has been booked! your seat number is {self.seats}\")\n",
    "            self.seats = self.seats-1 \n",
    "        else:\n",
    "            print(\"Sorry this train is full ! kindly try in tatkal.\")\n",
    "\n",
    "    def cancleticket(self, seatNo): #yaha par ek list bana kar aisa karna hai ki jis bhi no. ki seat cancle ho usi ko hi show kare\n",
    "       pass\n",
    "\n",
    "\n",
    "intercity = train(\"Intercity Express: 140015\", 90, 2 )       \n",
    "intercity.getstatus()\n",
    "intercity.fareinfo()\n",
    "intercity.bookTicket()\n",
    "intercity.getstatus()\n",
    "intercity.bookTicket()\n",
    "intercity.getstatus()\n",
    "intercity.bookTicket()\n",
    "\n",
    "\n",
    "    "
   ]
  },
  {
   "cell_type": "code",
   "execution_count": 47,
   "metadata": {},
   "outputs": [
    {
     "name": "stdout",
     "output_type": "stream",
     "text": [
      "ganesh\n"
     ]
    }
   ],
   "source": [
    "#6---> can you change the self parameter inside a class to somthing else(say 'ganesh') try changing self to 'SIF' or 'ganesh' and see the effect\n",
    "class sample:\n",
    "    def __init__(SIF,name):\n",
    "        SIF.name = name\n",
    "\n",
    "obj = sample(\"ganesh\")\n",
    "print(obj.name)  \n"
   ]
  }
 ],
 "metadata": {
  "kernelspec": {
   "display_name": "Python 3",
   "language": "python",
   "name": "python3"
  },
  "language_info": {
   "codemirror_mode": {
    "name": "ipython",
    "version": 3
   },
   "file_extension": ".py",
   "mimetype": "text/x-python",
   "name": "python",
   "nbconvert_exporter": "python",
   "pygments_lexer": "ipython3",
   "version": "3.11.5"
  },
  "orig_nbformat": 4
 },
 "nbformat": 4,
 "nbformat_minor": 2
}
