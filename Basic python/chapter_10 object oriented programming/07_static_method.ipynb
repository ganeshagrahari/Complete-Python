{
 "cells": [
  {
   "cell_type": "code",
   "execution_count": 13,
   "metadata": {},
   "outputs": [
    {
     "name": "stdout",
     "output_type": "stream",
     "text": [
      "Salary for this employee working in Google is 100000\n",
      " Thanks!\n",
      "Good morning, Sir\n"
     ]
    }
   ],
   "source": [
    "class Employee:\n",
    "    company = \"Google\"\n",
    "    def getSalary(self, signature):\n",
    "        print(f\"Salary for this employee working in {self.company} is {self.Salary}\\n {signature}\")\n",
    "    @staticmethod #Sometimes we need  function that dosen't use the self parameter  we can define a state method like this: @staticmethod\n",
    "                                                                                                                              #def greet():\n",
    "                                                                                                                              #    print(\"Hello world!\")\n",
    "    def greet():\n",
    "        print(\"Good morning, Sir\")\n",
    "   \n",
    "\n",
    "harry= Employee() \n",
    "harry.Salary = 100000\n",
    "harry.getSalary(\"Thanks!\")# Employee.getSalary(harry)\n",
    "harry.greet() #Employee.greet()"
   ]
  }
 ],
 "metadata": {
  "kernelspec": {
   "display_name": "Python 3",
   "language": "python",
   "name": "python3"
  },
  "language_info": {
   "codemirror_mode": {
    "name": "ipython",
    "version": 3
   },
   "file_extension": ".py",
   "mimetype": "text/x-python",
   "name": "python",
   "nbconvert_exporter": "python",
   "pygments_lexer": "ipython3",
   "version": "3.11.5"
  },
  "orig_nbformat": 4
 },
 "nbformat": 4,
 "nbformat_minor": 2
}
